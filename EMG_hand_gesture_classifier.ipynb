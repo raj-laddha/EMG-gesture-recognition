{
  "nbformat": 4,
  "nbformat_minor": 0,
  "metadata": {
    "colab": {
      "name": "ML_Assignment.ipynb",
      "provenance": [],
      "collapsed_sections": []
    },
    "kernelspec": {
      "name": "python3",
      "display_name": "Python 3"
    },
    "language_info": {
      "name": "python"
    }
  },
  "cells": [
    {
      "cell_type": "markdown",
      "metadata": {
        "id": "jEPsR-4cKACY"
      },
      "source": [
        "# **Gesutre Recognition using EMG Pattern**"
      ]
    },
    {
      "cell_type": "code",
      "metadata": {
        "colab": {
          "base_uri": "https://localhost:8080/"
        },
        "id": "BMz-MoG5aoFN",
        "outputId": "0d37444c-a71d-484e-f579-139144e67d10"
      },
      "source": [
        "# setup - mounting drive for accessing the EMG Pattern database\n",
        "\n",
        "from google.colab import drive\n",
        "drive.mount('/content/drive')"
      ],
      "execution_count": null,
      "outputs": [
        {
          "output_type": "stream",
          "name": "stdout",
          "text": [
            "Mounted at /content/drive\n"
          ]
        }
      ]
    },
    {
      "cell_type": "markdown",
      "metadata": {
        "id": "JGw_35hpKOgL"
      },
      "source": [
        "### Importing required libraries"
      ]
    },
    {
      "cell_type": "code",
      "metadata": {
        "id": "9QG1mndNbSjm"
      },
      "source": [
        "# listdir for listing files and sub-folders for a given path\n",
        "from os import listdir\n",
        "\n",
        "import numpy as np\n",
        "import pandas as pd\n",
        "\n",
        "# different classifiers for training models\n",
        "from sklearn.linear_model import LogisticRegression\n",
        "from sklearn.ensemble import RandomForestClassifier\n",
        "from sklearn.tree import DecisionTreeClassifier\n",
        "from sklearn.naive_bayes import GaussianNB\n",
        "from sklearn.neighbors import KNeighborsClassifier\n",
        "\n",
        "# for model evaluation\n",
        "from sklearn.model_selection import train_test_split\n",
        "from sklearn.metrics import accuracy_score\n",
        "\n",
        "# for plotting graphs and charts\n",
        "import seaborn as sns\n",
        "import matplotlib.pyplot as plt"
      ],
      "execution_count": null,
      "outputs": []
    },
    {
      "cell_type": "markdown",
      "metadata": {
        "id": "c08_7cnpKW4e"
      },
      "source": [
        "## **Creating the Dataset**"
      ]
    },
    {
      "cell_type": "code",
      "metadata": {
        "id": "AQ2lCszUYDch"
      },
      "source": [
        "# path to the Data folder\n",
        "data_folder_path = '/content/drive/MyDrive/Data.zip (Unzipped Files)/Data'"
      ],
      "execution_count": null,
      "outputs": []
    },
    {
      "cell_type": "markdown",
      "metadata": {
        "id": "B88rCijyKeEB"
      },
      "source": [
        "In odrder to create the dataset, all the raw text files are traversed and merged to form a single dataset"
      ]
    },
    {
      "cell_type": "code",
      "metadata": {
        "id": "hHZzTqBZdVy5",
        "colab": {
          "base_uri": "https://localhost:8080/"
        },
        "outputId": "3f89390d-61d4-4233-8d60-b0827834a200"
      },
      "source": [
        "# creating an empty data frame\n",
        "dataset = pd.DataFrame()\n",
        "\n",
        "# listing all the sub-directories of the Data folder\n",
        "for folder in listdir(data_folder_path):\n",
        "\n",
        "  # skipping the README.txt file\n",
        "  if folder == 'README.txt':\n",
        "    continue\n",
        "\n",
        "  # path for each sub-folder\n",
        "  sub_folder_path = data_folder_path + '/' + folder\n",
        "\n",
        "  # listing the raw data files of each sub-folders\n",
        "  for file in listdir(sub_folder_path):\n",
        "\n",
        "    # path of each raw data file\n",
        "    file_path = sub_folder_path + '/' + file\n",
        "\n",
        "    ## creating the dataset with initial file when the data frame is empty\n",
        "    ## else combining the new data records with the existing data frame\n",
        "    if dataset.empty:\n",
        "\n",
        "      # reading the .txt file with delimiter as blank spaces\n",
        "      dataset = pd.read_csv(file_path, sep='\\s')\n",
        "\n",
        "    else:\n",
        "      data = pd.read_csv(file_path, sep='\\s')\n",
        "      dataset = pd.concat([dataset, data]) # combining the data with the current dataset"
      ],
      "execution_count": null,
      "outputs": [
        {
          "output_type": "stream",
          "name": "stderr",
          "text": [
            "/usr/local/lib/python3.7/dist-packages/ipykernel_launcher.py:25: ParserWarning: Falling back to the 'python' engine because the 'c' engine does not support regex separators (separators > 1 char and different from '\\s+' are interpreted as regex); you can avoid this warning by specifying engine='python'.\n",
            "/usr/local/lib/python3.7/dist-packages/ipykernel_launcher.py:28: ParserWarning: Falling back to the 'python' engine because the 'c' engine does not support regex separators (separators > 1 char and different from '\\s+' are interpreted as regex); you can avoid this warning by specifying engine='python'.\n"
          ]
        }
      ]
    },
    {
      "cell_type": "code",
      "metadata": {
        "colab": {
          "base_uri": "https://localhost:8080/",
          "height": 206
        },
        "id": "tt0D3uDQLIWc",
        "outputId": "147e19d0-c3be-4e51-eb91-26c005d189eb"
      },
      "source": [
        "# viewing the initail records of the dataset\n",
        "dataset.head()"
      ],
      "execution_count": null,
      "outputs": [
        {
          "output_type": "execute_result",
          "data": {
            "text/html": [
              "<div>\n",
              "<style scoped>\n",
              "    .dataframe tbody tr th:only-of-type {\n",
              "        vertical-align: middle;\n",
              "    }\n",
              "\n",
              "    .dataframe tbody tr th {\n",
              "        vertical-align: top;\n",
              "    }\n",
              "\n",
              "    .dataframe thead th {\n",
              "        text-align: right;\n",
              "    }\n",
              "</style>\n",
              "<table border=\"1\" class=\"dataframe\">\n",
              "  <thead>\n",
              "    <tr style=\"text-align: right;\">\n",
              "      <th></th>\n",
              "      <th>time</th>\n",
              "      <th>channel1</th>\n",
              "      <th>channel2</th>\n",
              "      <th>channel3</th>\n",
              "      <th>channel4</th>\n",
              "      <th>channel5</th>\n",
              "      <th>channel6</th>\n",
              "      <th>channel7</th>\n",
              "      <th>channel8</th>\n",
              "      <th>class</th>\n",
              "    </tr>\n",
              "  </thead>\n",
              "  <tbody>\n",
              "    <tr>\n",
              "      <th>0</th>\n",
              "      <td>1</td>\n",
              "      <td>-0.00002</td>\n",
              "      <td>-0.00005</td>\n",
              "      <td>-0.00004</td>\n",
              "      <td>0.00001</td>\n",
              "      <td>-0.00001</td>\n",
              "      <td>-0.00002</td>\n",
              "      <td>0.00001</td>\n",
              "      <td>0.0</td>\n",
              "      <td>0.0</td>\n",
              "    </tr>\n",
              "    <tr>\n",
              "      <th>1</th>\n",
              "      <td>5</td>\n",
              "      <td>-0.00002</td>\n",
              "      <td>-0.00005</td>\n",
              "      <td>-0.00004</td>\n",
              "      <td>0.00001</td>\n",
              "      <td>-0.00001</td>\n",
              "      <td>-0.00002</td>\n",
              "      <td>0.00001</td>\n",
              "      <td>0.0</td>\n",
              "      <td>0.0</td>\n",
              "    </tr>\n",
              "    <tr>\n",
              "      <th>2</th>\n",
              "      <td>6</td>\n",
              "      <td>-0.00002</td>\n",
              "      <td>-0.00005</td>\n",
              "      <td>-0.00004</td>\n",
              "      <td>0.00001</td>\n",
              "      <td>-0.00001</td>\n",
              "      <td>-0.00002</td>\n",
              "      <td>0.00001</td>\n",
              "      <td>0.0</td>\n",
              "      <td>0.0</td>\n",
              "    </tr>\n",
              "    <tr>\n",
              "      <th>3</th>\n",
              "      <td>7</td>\n",
              "      <td>-0.00002</td>\n",
              "      <td>-0.00005</td>\n",
              "      <td>-0.00004</td>\n",
              "      <td>0.00001</td>\n",
              "      <td>-0.00001</td>\n",
              "      <td>-0.00002</td>\n",
              "      <td>0.00001</td>\n",
              "      <td>0.0</td>\n",
              "      <td>0.0</td>\n",
              "    </tr>\n",
              "    <tr>\n",
              "      <th>4</th>\n",
              "      <td>8</td>\n",
              "      <td>-0.00002</td>\n",
              "      <td>-0.00005</td>\n",
              "      <td>-0.00004</td>\n",
              "      <td>0.00001</td>\n",
              "      <td>-0.00001</td>\n",
              "      <td>-0.00002</td>\n",
              "      <td>0.00001</td>\n",
              "      <td>0.0</td>\n",
              "      <td>0.0</td>\n",
              "    </tr>\n",
              "  </tbody>\n",
              "</table>\n",
              "</div>"
            ],
            "text/plain": [
              "   time  channel1  channel2  channel3  ...  channel6  channel7  channel8  class\n",
              "0     1  -0.00002  -0.00005  -0.00004  ...  -0.00002   0.00001       0.0    0.0\n",
              "1     5  -0.00002  -0.00005  -0.00004  ...  -0.00002   0.00001       0.0    0.0\n",
              "2     6  -0.00002  -0.00005  -0.00004  ...  -0.00002   0.00001       0.0    0.0\n",
              "3     7  -0.00002  -0.00005  -0.00004  ...  -0.00002   0.00001       0.0    0.0\n",
              "4     8  -0.00002  -0.00005  -0.00004  ...  -0.00002   0.00001       0.0    0.0\n",
              "\n",
              "[5 rows x 10 columns]"
            ]
          },
          "metadata": {},
          "execution_count": 5
        }
      ]
    },
    {
      "cell_type": "markdown",
      "metadata": {
        "id": "PCGLFtXPLFQy"
      },
      "source": [
        "## **Exploratory data analysis**"
      ]
    },
    {
      "cell_type": "code",
      "metadata": {
        "colab": {
          "base_uri": "https://localhost:8080/"
        },
        "id": "ZyLj6tTDdPzd",
        "outputId": "19d1200c-70db-4772-b232-5997d6e38d08"
      },
      "source": [
        "# summarizing the number of rows, columns and their types\n",
        "dataset.info()"
      ],
      "execution_count": null,
      "outputs": [
        {
          "output_type": "stream",
          "name": "stdout",
          "text": [
            "<class 'pandas.core.frame.DataFrame'>\n",
            "Int64Index: 4237908 entries, 0 to 51077\n",
            "Data columns (total 10 columns):\n",
            " #   Column    Dtype  \n",
            "---  ------    -----  \n",
            " 0   time      int64  \n",
            " 1   channel1  float64\n",
            " 2   channel2  float64\n",
            " 3   channel3  float64\n",
            " 4   channel4  float64\n",
            " 5   channel5  float64\n",
            " 6   channel6  float64\n",
            " 7   channel7  float64\n",
            " 8   channel8  float64\n",
            " 9   class     float64\n",
            "dtypes: float64(9), int64(1)\n",
            "memory usage: 355.7 MB\n"
          ]
        }
      ]
    },
    {
      "cell_type": "markdown",
      "metadata": {
        "id": "gKW1NswXMItg"
      },
      "source": [
        "It is observed that there are 4237908 records in total"
      ]
    },
    {
      "cell_type": "code",
      "metadata": {
        "colab": {
          "base_uri": "https://localhost:8080/",
          "height": 300
        },
        "id": "TmCi3h-LofE5",
        "outputId": "ede371d7-bad9-415e-8809-35b08036990e"
      },
      "source": [
        "# summarizing the stats pertaining to the dataset\n",
        "dataset.describe()"
      ],
      "execution_count": null,
      "outputs": [
        {
          "output_type": "execute_result",
          "data": {
            "text/html": [
              "<div>\n",
              "<style scoped>\n",
              "    .dataframe tbody tr th:only-of-type {\n",
              "        vertical-align: middle;\n",
              "    }\n",
              "\n",
              "    .dataframe tbody tr th {\n",
              "        vertical-align: top;\n",
              "    }\n",
              "\n",
              "    .dataframe thead th {\n",
              "        text-align: right;\n",
              "    }\n",
              "</style>\n",
              "<table border=\"1\" class=\"dataframe\">\n",
              "  <thead>\n",
              "    <tr style=\"text-align: right;\">\n",
              "      <th></th>\n",
              "      <th>time</th>\n",
              "      <th>channel1</th>\n",
              "      <th>channel2</th>\n",
              "      <th>channel3</th>\n",
              "      <th>channel4</th>\n",
              "      <th>channel5</th>\n",
              "      <th>channel6</th>\n",
              "      <th>channel7</th>\n",
              "      <th>channel8</th>\n",
              "      <th>class</th>\n",
              "    </tr>\n",
              "  </thead>\n",
              "  <tbody>\n",
              "    <tr>\n",
              "      <th>count</th>\n",
              "      <td>4.237908e+06</td>\n",
              "      <td>4.237908e+06</td>\n",
              "      <td>4.237908e+06</td>\n",
              "      <td>4.237908e+06</td>\n",
              "      <td>4.237908e+06</td>\n",
              "      <td>4.237908e+06</td>\n",
              "      <td>4.237908e+06</td>\n",
              "      <td>4.237908e+06</td>\n",
              "      <td>4.237908e+06</td>\n",
              "      <td>4.237907e+06</td>\n",
              "    </tr>\n",
              "    <tr>\n",
              "      <th>mean</th>\n",
              "      <td>3.113689e+04</td>\n",
              "      <td>-7.911481e-06</td>\n",
              "      <td>-9.416077e-06</td>\n",
              "      <td>-9.548735e-06</td>\n",
              "      <td>-9.637838e-06</td>\n",
              "      <td>-1.599724e-05</td>\n",
              "      <td>-1.085528e-05</td>\n",
              "      <td>-9.364637e-06</td>\n",
              "      <td>-9.696860e-06</td>\n",
              "      <td>1.265671e+00</td>\n",
              "    </tr>\n",
              "    <tr>\n",
              "      <th>std</th>\n",
              "      <td>1.868079e+04</td>\n",
              "      <td>1.631110e-04</td>\n",
              "      <td>1.192228e-04</td>\n",
              "      <td>1.241846e-04</td>\n",
              "      <td>2.257728e-04</td>\n",
              "      <td>2.724188e-04</td>\n",
              "      <td>2.151405e-04</td>\n",
              "      <td>1.527311e-04</td>\n",
              "      <td>1.720933e-04</td>\n",
              "      <td>1.989693e+00</td>\n",
              "    </tr>\n",
              "    <tr>\n",
              "      <th>min</th>\n",
              "      <td>0.000000e+00</td>\n",
              "      <td>-1.280000e-03</td>\n",
              "      <td>-1.280000e-03</td>\n",
              "      <td>-1.280000e-03</td>\n",
              "      <td>-1.280000e-03</td>\n",
              "      <td>-1.280000e-03</td>\n",
              "      <td>-1.280000e-03</td>\n",
              "      <td>-1.280000e-03</td>\n",
              "      <td>-1.280000e-03</td>\n",
              "      <td>0.000000e+00</td>\n",
              "    </tr>\n",
              "    <tr>\n",
              "      <th>25%</th>\n",
              "      <td>1.529000e+04</td>\n",
              "      <td>-3.000000e-05</td>\n",
              "      <td>-4.000000e-05</td>\n",
              "      <td>-4.000000e-05</td>\n",
              "      <td>-6.000000e-05</td>\n",
              "      <td>-8.000000e-05</td>\n",
              "      <td>-6.000000e-05</td>\n",
              "      <td>-4.000000e-05</td>\n",
              "      <td>-3.000000e-05</td>\n",
              "      <td>0.000000e+00</td>\n",
              "    </tr>\n",
              "    <tr>\n",
              "      <th>50%</th>\n",
              "      <td>3.054600e+04</td>\n",
              "      <td>-1.000000e-05</td>\n",
              "      <td>-1.000000e-05</td>\n",
              "      <td>-1.000000e-05</td>\n",
              "      <td>-1.000000e-05</td>\n",
              "      <td>-1.000000e-05</td>\n",
              "      <td>-1.000000e-05</td>\n",
              "      <td>-1.000000e-05</td>\n",
              "      <td>-1.000000e-05</td>\n",
              "      <td>0.000000e+00</td>\n",
              "    </tr>\n",
              "    <tr>\n",
              "      <th>75%</th>\n",
              "      <td>4.580400e+04</td>\n",
              "      <td>2.000000e-05</td>\n",
              "      <td>2.000000e-05</td>\n",
              "      <td>3.000000e-05</td>\n",
              "      <td>4.000000e-05</td>\n",
              "      <td>5.000000e-05</td>\n",
              "      <td>3.000000e-05</td>\n",
              "      <td>2.000000e-05</td>\n",
              "      <td>1.000000e-05</td>\n",
              "      <td>2.000000e+00</td>\n",
              "    </tr>\n",
              "    <tr>\n",
              "      <th>max</th>\n",
              "      <td>9.714400e+04</td>\n",
              "      <td>1.270000e-03</td>\n",
              "      <td>1.270000e-03</td>\n",
              "      <td>1.270000e-03</td>\n",
              "      <td>1.270000e-03</td>\n",
              "      <td>1.270000e-03</td>\n",
              "      <td>1.270000e-03</td>\n",
              "      <td>1.270000e-03</td>\n",
              "      <td>1.270000e-03</td>\n",
              "      <td>7.000000e+00</td>\n",
              "    </tr>\n",
              "  </tbody>\n",
              "</table>\n",
              "</div>"
            ],
            "text/plain": [
              "               time      channel1  ...      channel8         class\n",
              "count  4.237908e+06  4.237908e+06  ...  4.237908e+06  4.237907e+06\n",
              "mean   3.113689e+04 -7.911481e-06  ... -9.696860e-06  1.265671e+00\n",
              "std    1.868079e+04  1.631110e-04  ...  1.720933e-04  1.989693e+00\n",
              "min    0.000000e+00 -1.280000e-03  ... -1.280000e-03  0.000000e+00\n",
              "25%    1.529000e+04 -3.000000e-05  ... -3.000000e-05  0.000000e+00\n",
              "50%    3.054600e+04 -1.000000e-05  ... -1.000000e-05  0.000000e+00\n",
              "75%    4.580400e+04  2.000000e-05  ...  1.000000e-05  2.000000e+00\n",
              "max    9.714400e+04  1.270000e-03  ...  1.270000e-03  7.000000e+00\n",
              "\n",
              "[8 rows x 10 columns]"
            ]
          },
          "metadata": {},
          "execution_count": 7
        }
      ]
    },
    {
      "cell_type": "markdown",
      "metadata": {
        "id": "J31hT_lXu8DR"
      },
      "source": [
        "### **Checking and removing null values**"
      ]
    },
    {
      "cell_type": "code",
      "metadata": {
        "colab": {
          "base_uri": "https://localhost:8080/"
        },
        "id": "7KrQIxjMhC2r",
        "outputId": "5959027f-97d6-4f68-c6a7-cc3648cceb23"
      },
      "source": [
        "# counting the number of null values in each column\n",
        "dataset.isnull().sum()"
      ],
      "execution_count": null,
      "outputs": [
        {
          "output_type": "execute_result",
          "data": {
            "text/plain": [
              "time        0\n",
              "channel1    0\n",
              "channel2    0\n",
              "channel3    0\n",
              "channel4    0\n",
              "channel5    0\n",
              "channel6    0\n",
              "channel7    0\n",
              "channel8    0\n",
              "class       1\n",
              "dtype: int64"
            ]
          },
          "metadata": {},
          "execution_count": 8
        }
      ]
    },
    {
      "cell_type": "markdown",
      "metadata": {
        "id": "FQNvRWlYvLTm"
      },
      "source": [
        "The above results shows that there is only a single null value in the entire dataset, which is present in the column of 'class'"
      ]
    },
    {
      "cell_type": "code",
      "metadata": {
        "colab": {
          "base_uri": "https://localhost:8080/",
          "height": 81
        },
        "id": "7JUyuKPwd1zD",
        "outputId": "e7584e50-bc28-420b-b1ac-0521b881ce6a"
      },
      "source": [
        "# projecting the record that contains the null value \n",
        "dataset[pd.isnull(dataset['class'])]"
      ],
      "execution_count": null,
      "outputs": [
        {
          "output_type": "execute_result",
          "data": {
            "text/html": [
              "<div>\n",
              "<style scoped>\n",
              "    .dataframe tbody tr th:only-of-type {\n",
              "        vertical-align: middle;\n",
              "    }\n",
              "\n",
              "    .dataframe tbody tr th {\n",
              "        vertical-align: top;\n",
              "    }\n",
              "\n",
              "    .dataframe thead th {\n",
              "        text-align: right;\n",
              "    }\n",
              "</style>\n",
              "<table border=\"1\" class=\"dataframe\">\n",
              "  <thead>\n",
              "    <tr style=\"text-align: right;\">\n",
              "      <th></th>\n",
              "      <th>time</th>\n",
              "      <th>channel1</th>\n",
              "      <th>channel2</th>\n",
              "      <th>channel3</th>\n",
              "      <th>channel4</th>\n",
              "      <th>channel5</th>\n",
              "      <th>channel6</th>\n",
              "      <th>channel7</th>\n",
              "      <th>channel8</th>\n",
              "      <th>class</th>\n",
              "    </tr>\n",
              "  </thead>\n",
              "  <tbody>\n",
              "    <tr>\n",
              "      <th>79764</th>\n",
              "      <td>97144</td>\n",
              "      <td>-0.00002</td>\n",
              "      <td>-0.00003</td>\n",
              "      <td>-0.00003</td>\n",
              "      <td>-0.00002</td>\n",
              "      <td>-0.00002</td>\n",
              "      <td>0.0</td>\n",
              "      <td>0.0</td>\n",
              "      <td>-0.00001</td>\n",
              "      <td>NaN</td>\n",
              "    </tr>\n",
              "  </tbody>\n",
              "</table>\n",
              "</div>"
            ],
            "text/plain": [
              "        time  channel1  channel2  channel3  ...  channel6  channel7  channel8  class\n",
              "79764  97144  -0.00002  -0.00003  -0.00003  ...       0.0       0.0  -0.00001    NaN\n",
              "\n",
              "[1 rows x 10 columns]"
            ]
          },
          "metadata": {},
          "execution_count": 9
        }
      ]
    },
    {
      "cell_type": "code",
      "metadata": {
        "id": "HFpc5TL5iKyy"
      },
      "source": [
        "# removing the record that contain null value\n",
        "dataset.dropna(inplace=True)"
      ],
      "execution_count": null,
      "outputs": []
    },
    {
      "cell_type": "markdown",
      "metadata": {
        "id": "R87mm4Klvki5"
      },
      "source": [
        "### **Removing insignificant data**\n",
        "Since the class labelled '0' is unmarked, using the records containing the class value as '0' is insignificant as it does not provide any useful information. Hence the records containing the class label as '0' are dropped."
      ]
    },
    {
      "cell_type": "code",
      "metadata": {
        "id": "LaPMNnIoiyXF"
      },
      "source": [
        "# removing records whose class label is marked as '0'\n",
        "dataset = dataset[dataset['class'] != 0]"
      ],
      "execution_count": null,
      "outputs": []
    },
    {
      "cell_type": "markdown",
      "metadata": {
        "id": "L19H8XrYwv09"
      },
      "source": [
        "The column named 'time' is also removed as it does not provide any significant information"
      ]
    },
    {
      "cell_type": "code",
      "metadata": {
        "id": "f9F7giLbW7dj"
      },
      "source": [
        "# removing the 'time' column\n",
        "dataset = dataset.drop(labels='time', axis=1)"
      ],
      "execution_count": null,
      "outputs": []
    },
    {
      "cell_type": "code",
      "metadata": {
        "id": "UUYxUli0i6WC",
        "colab": {
          "base_uri": "https://localhost:8080/"
        },
        "outputId": "5681697f-f686-4722-f5b9-e27f8d141c76"
      },
      "source": [
        "# summary of the filtered dataset\n",
        "dataset.info()"
      ],
      "execution_count": null,
      "outputs": [
        {
          "output_type": "stream",
          "name": "stdout",
          "text": [
            "<class 'pandas.core.frame.DataFrame'>\n",
            "Int64Index: 1512750 entries, 1483 to 50126\n",
            "Data columns (total 9 columns):\n",
            " #   Column    Non-Null Count    Dtype  \n",
            "---  ------    --------------    -----  \n",
            " 0   channel1  1512750 non-null  float64\n",
            " 1   channel2  1512750 non-null  float64\n",
            " 2   channel3  1512750 non-null  float64\n",
            " 3   channel4  1512750 non-null  float64\n",
            " 4   channel5  1512750 non-null  float64\n",
            " 5   channel6  1512750 non-null  float64\n",
            " 6   channel7  1512750 non-null  float64\n",
            " 7   channel8  1512750 non-null  float64\n",
            " 8   class     1512750 non-null  float64\n",
            "dtypes: float64(9)\n",
            "memory usage: 115.4 MB\n"
          ]
        }
      ]
    },
    {
      "cell_type": "markdown",
      "metadata": {
        "id": "H3LUOh1PxsZG"
      },
      "source": [
        "### **Data visualization**"
      ]
    },
    {
      "cell_type": "code",
      "metadata": {
        "id": "ZTosJO6VX_SA",
        "colab": {
          "base_uri": "https://localhost:8080/"
        },
        "outputId": "1d8890ae-e82b-4b1f-f23c-0a3b2db1d711"
      },
      "source": [
        "# features that are relevant for training \n",
        "features = list(dataset.columns)\n",
        "features.remove('class')\n",
        "\n",
        "print(features)"
      ],
      "execution_count": null,
      "outputs": [
        {
          "output_type": "stream",
          "name": "stdout",
          "text": [
            "['channel1', 'channel2', 'channel3', 'channel4', 'channel5', 'channel6', 'channel7', 'channel8']\n"
          ]
        }
      ]
    },
    {
      "cell_type": "markdown",
      "metadata": {
        "id": "er6kLq-Azog-"
      },
      "source": [
        "#### **Countplot**\n",
        "Visualizing the proportion of different classes in the dataset "
      ]
    },
    {
      "cell_type": "code",
      "metadata": {
        "colab": {
          "base_uri": "https://localhost:8080/",
          "height": 388
        },
        "id": "CBp-g1VqzmiB",
        "outputId": "f14036c1-e99a-4e70-989b-292e42a0aec2"
      },
      "source": [
        "# plotting the countplot \n",
        "\n",
        "fig, ax = plt.subplots(1,2,figsize=(12,6))\n",
        "\n",
        "# bar graph for visualizing the count of various classes\n",
        "bar = sns.countplot(x='class', data=dataset, ax=ax[0])\n",
        "\n",
        "# pie chart depicting the proportion of data for different classes\n",
        "pie = dataset['class'].value_counts().plot.pie(autopct=\"%.2f%%\", ax=ax[1])"
      ],
      "execution_count": null,
      "outputs": [
        {
          "output_type": "display_data",
          "data": {
            "image/png": "[encoded data removed]",
            "text/plain": [
              "<Figure size 864x432 with 2 Axes>"
            ]
          },
          "metadata": {
            "needs_background": "light"
          }
        }
      ]
    },
    {
      "cell_type": "markdown",
      "metadata": {
        "id": "mk9mVvHL17oo"
      },
      "source": [
        "As it is observed, all the classes except the class labelled '7' are more or less equal in proportion. The class labelled '7' constitues only 0.91% of the data"
      ]
    },
    {
      "cell_type": "markdown",
      "metadata": {
        "id": "EugnUH-m2xHO"
      },
      "source": [
        "#### **Density Plots**\n",
        "Visualizing the distribution of each feature of the dataset"
      ]
    },
    {
      "cell_type": "code",
      "metadata": {
        "colab": {
          "base_uri": "https://localhost:8080/",
          "height": 863
        },
        "id": "6HnxL6XxzmR2",
        "outputId": "ad1e28e8-bbab-4ad1-8421-77e59271f78c"
      },
      "source": [
        "# density plots to check the distribution of each feature in the dataset\n",
        "\n",
        "dataset[features].plot(kind=\"density\", layout=(4,2), subplots=True, sharex=False, sharey=False, figsize=(15,15))\n",
        "plt.show()"
      ],
      "execution_count": null,
      "outputs": [
        {
          "output_type": "display_data",
          "data": {
            "image/png": "[encoded data removed]",
            "text/plain": [
              "<Figure size 1080x1080 with 8 Axes>"
            ]
          },
          "metadata": {
            "needs_background": "light"
          }
        }
      ]
    },
    {
      "cell_type": "markdown",
      "metadata": {
        "id": "-093KMPg5f1I"
      },
      "source": [
        "The density plots signifies that all the features are normally distributed"
      ]
    },
    {
      "cell_type": "markdown",
      "metadata": {
        "id": "A59B4oJ25t0o"
      },
      "source": [
        "#### **Heat map**\n",
        "To understand the correlation between the features"
      ]
    },
    {
      "cell_type": "code",
      "metadata": {
        "colab": {
          "base_uri": "https://localhost:8080/",
          "height": 523
        },
        "id": "z6uR8azRAa3E",
        "outputId": "a1e5e756-0ed3-4962-d0a7-2f463daa9062"
      },
      "source": [
        "# finding the correlation between all pairs of features\n",
        "corr = dataset[features].corr()\n",
        "\n",
        "# plotting using heatmap\n",
        "plt.figure(figsize=(8, 8))\n",
        "hmap = sns.heatmap(corr, xticklabels=corr.columns, yticklabels=corr.columns, annot=True)"
      ],
      "execution_count": null,
      "outputs": [
        {
          "output_type": "display_data",
          "data": {
            "image/png": "[encoded data removed]",
            "text/plain": [
              "<Figure size 576x576 with 2 Axes>"
            ]
          },
          "metadata": {
            "needs_background": "light"
          }
        }
      ]
    },
    {
      "cell_type": "markdown",
      "metadata": {
        "id": "C4BU4SOyBzOJ"
      },
      "source": [
        "It is observed that there is no significant correlation between the features indicating that the features are independent of each other"
      ]
    },
    {
      "cell_type": "markdown",
      "metadata": {
        "id": "5F1ktXU8CQFZ"
      },
      "source": [
        "## **Training and Selecting a model**"
      ]
    },
    {
      "cell_type": "code",
      "metadata": {
        "id": "AUmQ13d3Ydge"
      },
      "source": [
        "# seperating the features and the target \n",
        "X = dataset[features]\n",
        "y = dataset['class']\n",
        "\n",
        "# splitting the training and test data\n",
        "X_train, X_test, y_train, y_test = train_test_split(X, y, random_state=2, test_size=0.2)"
      ],
      "execution_count": null,
      "outputs": []
    },
    {
      "cell_type": "code",
      "metadata": {
        "colab": {
          "base_uri": "https://localhost:8080/"
        },
        "id": "boyrG1bWZaGY",
        "outputId": "732be04d-3a56-48e8-8bf5-80f93f402bd1"
      },
      "source": [
        "# trying different models to train the data \n",
        "models = [LogisticRegression(), RandomForestClassifier(), DecisionTreeClassifier(), KNeighborsClassifier(), GaussianNB()]\n",
        "model_names = ['Logistic Regression', 'Random Forest Classifier', 'Decision Tree Classifier', 'K Neighbors Classifier', 'Gaussain NB']\n",
        "\n",
        "# getting the accuracy of all the models\n",
        "for i in range(len(models)):\n",
        "\n",
        "  # train the model using the training data and getting the predictions\n",
        "  models[i].fit(X_train, y_train)\n",
        "  predictions = models[i].predict(X_test) \n",
        "\n",
        "  # printing the accuracy \n",
        "  print(model_names[i], ' => ', accuracy_score(y_test, predictions))"
      ],
      "execution_count": null,
      "outputs": [
        {
          "output_type": "stream",
          "name": "stdout",
          "text": [
            "Logistic Regression  =>  0.17569327383903488\n",
            "Random Forest Classifier  =>  0.9867360766815403\n",
            "Decision Tree Classifier  =>  0.9817154189390184\n",
            "K Neighbors Classifier  =>  0.973501900512312\n",
            "Gaussain NB  =>  0.5676119649644686\n"
          ]
        }
      ]
    },
    {
      "cell_type": "markdown",
      "metadata": {
        "id": "8ooQoRiLOP34"
      },
      "source": [
        "As seen, Random Forest Classifier provides the best accuracy score. Therefore Random Forest Classifier is chosen as the model"
      ]
    },
    {
      "cell_type": "code",
      "metadata": {
        "id": "A6V35WYGOrxg"
      },
      "source": [
        "# choosing Random Forest Classifier as the model\n",
        "model = models[1]\n",
        "model_name = model_names[1]"
      ],
      "execution_count": null,
      "outputs": []
    },
    {
      "cell_type": "markdown",
      "metadata": {
        "id": "Jz6rHzkRPBft"
      },
      "source": [
        "## **Evaluating the model**"
      ]
    },
    {
      "cell_type": "markdown",
      "metadata": {
        "id": "lHRwCaMbPGWc"
      },
      "source": [
        "### **Accuracy**"
      ]
    },
    {
      "cell_type": "code",
      "metadata": {
        "id": "VtiryAPsarue",
        "colab": {
          "base_uri": "https://localhost:8080/"
        },
        "outputId": "0d8c2586-6974-4844-912d-f69049071e5b"
      },
      "source": [
        "# finding the accuracy of the model\n",
        "\n",
        "train_pred = model.predict(X_train) # predict training data\n",
        "test_pred = model.predict(X_test)   # predict test data\n",
        "\n",
        "# printing the accuracy scores\n",
        "print('Training Accuracy => ', accuracy_score(y_train, train_pred))\n",
        "print('Testing  Accuracy => ', accuracy_score(y_test, test_pred))"
      ],
      "execution_count": null,
      "outputs": [
        {
          "output_type": "stream",
          "name": "stdout",
          "text": [
            "Training Accuracy =>  0.9999909105932904\n",
            "Testing  Accuracy =>  0.9867360766815403\n"
          ]
        }
      ]
    },
    {
      "cell_type": "markdown",
      "metadata": {
        "id": "ow1mGmkyS8u0"
      },
      "source": [
        "The training and testing data gives a good accuracy of 99% and 98.6% respectively. Hence we can conclude that the model has performed well. "
      ]
    },
    {
      "cell_type": "markdown",
      "metadata": {
        "id": "yvlZE5xTTiBd"
      },
      "source": [
        "### **Confusion matrix**"
      ]
    },
    {
      "cell_type": "code",
      "metadata": {
        "id": "TFwEmaVUn698",
        "colab": {
          "base_uri": "https://localhost:8080/",
          "height": 513
        },
        "outputId": "df0eb97d-1bf8-4ec8-f16f-a2e771b8d2ad"
      },
      "source": [
        "# getting the confusion matrix\n",
        "cf_matrix = confusion_matrix(y_test, test_pred)\n",
        "\n",
        "# visualizing the confusion matrix\n",
        "plt.figure(figsize=[8, 8])\n",
        "plt.title(model_name)\n",
        "sns.heatmap(cf_matrix, annot=True, fmt='g', xticklabels=range(1, 8), yticklabels=range(1, 8))\n",
        "plt.xlabel('Predicted Class')\n",
        "plt.ylabel('Actual Class')\n",
        "plt.show()"
      ],
      "execution_count": null,
      "outputs": [
        {
          "output_type": "display_data",
          "data": {
            "image/png": "[encoded data removed]",
            "text/plain": [
              "<Figure size 576x576 with 2 Axes>"
            ]
          },
          "metadata": {
            "needs_background": "light"
          }
        }
      ]
    },
    {
      "cell_type": "markdown",
      "metadata": {
        "id": "cBqLwyHGTzWa"
      },
      "source": [
        "It can be observed from the confusion matrix that the model predicted the classes well. It is also seen that inspite of records having class '7' as label are less, the model has performed well on the test data in predicting class '7'"
      ]
    },
    {
      "cell_type": "code",
      "metadata": {
        "id": "n_8ZUd96Wur1"
      },
      "source": [
        ""
      ],
      "execution_count": null,
      "outputs": []
    }
  ]
}